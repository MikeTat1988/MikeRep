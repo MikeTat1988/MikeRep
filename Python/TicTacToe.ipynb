{
 "cells": [
  {
   "cell_type": "code",
   "execution_count": 68,
   "id": "879a4acc-a958-4add-bc7d-ffef93f3690d",
   "metadata": {},
   "outputs": [],
   "source": [
    "from IPython.display import clear_output\n",
    "EXIT_CODE = -1"
   ]
  },
  {
   "cell_type": "code",
   "execution_count": 1,
   "id": "cd9b1a25-43b4-4591-9199-7985e93b847d",
   "metadata": {},
   "outputs": [],
   "source": [
    "def check_for_win(board):\n",
    "    win_combinations = [\n",
    "        (0, 1, 2),  # Row 1\n",
    "        (3, 4, 5),  # Row 2\n",
    "        (6, 7, 8),  # Row 3\n",
    "        (0, 3, 6),  # Column 1\n",
    "        (1, 4, 7),  # Column 2\n",
    "        (2, 5, 8),  # Column 3\n",
    "        (0, 4, 8),  # Diagonal 1\n",
    "        (2, 4, 6)   # Diagonal 2\n",
    "    ]\n",
    "\n",
    "    for combo in win_combinations:\n",
    "        a, b, c = combo\n",
    "        if board[a] == board[b] == board[c] and board[a] in ['X', 'O']:\n",
    "            return True    \n",
    "    return False"
   ]
  },
  {
   "cell_type": "code",
   "execution_count": 78,
   "id": "beee39c5-f986-43bd-9aea-9dfc9db984e5",
   "metadata": {},
   "outputs": [],
   "source": [
    "def take_board_place(board):\n",
    "    valid_input = False\n",
    "    while not valid_input:\n",
    "        user_input = input('Enter a position 1-9 or BYE for exit')\n",
    "        if user_input.isdigit() and int(user_input) in range(1, 10):\n",
    "            if board[int(user_input)-1] != ' ':\n",
    "                print('Place already taken, re enter')\n",
    "            else:\n",
    "                valid_input = True\n",
    "        elif user_input.lower() == 'bye':\n",
    "            return EXIT_CODE\n",
    "        else:\n",
    "            print('Invalid input, please enter valid one')       \n",
    "    return int(user_input)-1"
   ]
  },
  {
   "cell_type": "code",
   "execution_count": 3,
   "id": "2e8b79ad-e7f6-4877-a6c3-d8b91d363797",
   "metadata": {},
   "outputs": [],
   "source": [
    "def x_or_o():\n",
    "    valid_input = False\n",
    "    while not valid_input:\n",
    "        user_input = input('Player 1, X or O?')\n",
    "        if user_input == 'X':\n",
    "            return ['X','O']\n",
    "        elif user_input == 'O':\n",
    "            return ['O','X']\n",
    "        else:\n",
    "            print('Invalid input, please enter valid one')"
   ]
  },
  {
   "cell_type": "code",
   "execution_count": 4,
   "id": "0a27b0f5-739f-456c-982e-cb961b93500d",
   "metadata": {},
   "outputs": [],
   "source": [
    "def update_board(board,place,sign):\n",
    "    board[place] = sign\n",
    "    return board"
   ]
  },
  {
   "cell_type": "code",
   "execution_count": 5,
   "id": "82ea8147-5a62-455a-8825-c1a2f84608f3",
   "metadata": {},
   "outputs": [],
   "source": [
    "def print_board(board):\n",
    "    for row in range(3):\n",
    "        print(f\" {board[0+3*row]} | {board[1+3*row]} | {board[2+3*row]} \")\n",
    "        if row < 2:\n",
    "            print(f\"---|---|---\")"
   ]
  },
  {
   "cell_type": "code",
   "execution_count": 16,
   "id": "8738de87-89db-4c0d-b765-7dfbe5c1af0e",
   "metadata": {},
   "outputs": [],
   "source": [
    "def check_if_again():\n",
    "    valid_input = False\n",
    "    while not valid_input:\n",
    "        user_input = input('Wanna play again? Y/N')\n",
    "        if user_input == 'Y':\n",
    "            return True\n",
    "        elif user_input == 'N':\n",
    "            return False\n",
    "        else:\n",
    "            print('Invalid input, please enter valid one')   "
   ]
  },
  {
   "cell_type": "code",
   "execution_count": 74,
   "id": "8090ae85-1342-4fa6-8328-e8f2fca0323e",
   "metadata": {},
   "outputs": [],
   "source": [
    "def tic_tac_toe():\n",
    "    print('Welcome to Tic Tac Toe!')\n",
    "    again = True\n",
    "    \n",
    "    while again:\n",
    "        the_board = [' ' for _ in range(9)]\n",
    "        win = False\n",
    "        turn = False\n",
    "        players = x_or_o()\n",
    "\n",
    "        print_board(the_board)\n",
    "        \n",
    "        while not win:\n",
    "            clear_output()\n",
    "            print_board(the_board)\n",
    "            print(f'Player {int(turn)+1} turn:')\n",
    "            \n",
    "            place = take_board_place(the_board)\n",
    "            \n",
    "            if place == EXIT_CODE:\n",
    "                print('EXITING!')\n",
    "                return\n",
    "                \n",
    "            the_board = update_board(the_board, place, players[int(turn)])\n",
    "            print_board(the_board)\n",
    "            \n",
    "            if check_for_win(the_board):\n",
    "                print(f'Player {turn+1} has won!')\n",
    "                win = True\n",
    "            elif ' ' not in the_board:\n",
    "                win = True\n",
    "                print('\\nITS A DRAW!!!!')\n",
    "                \n",
    "            turn = not turn #switching player\n",
    "        again = check_if_again()\n",
    "    "
   ]
  },
  {
   "cell_type": "code",
   "execution_count": 80,
   "id": "c4e01fcc-b8b2-4356-a663-710bdc89e00f",
   "metadata": {},
   "outputs": [
    {
     "name": "stdout",
     "output_type": "stream",
     "text": [
      "   |   |   \n",
      "---|---|---\n",
      "   |   |   \n",
      "---|---|---\n",
      "   |   |   \n",
      "Player 1 turn:\n"
     ]
    },
    {
     "name": "stdin",
     "output_type": "stream",
     "text": [
      "Enter a position 1-9 or BYE for exit bye\n"
     ]
    },
    {
     "name": "stdout",
     "output_type": "stream",
     "text": [
      "EXITING!\n"
     ]
    }
   ],
   "source": [
    "tic_tac_toe()"
   ]
  },
  {
   "cell_type": "code",
   "execution_count": null,
   "id": "a2f46be5-7297-40d1-b3ab-81d40582d6a4",
   "metadata": {},
   "outputs": [],
   "source": []
  }
 ],
 "metadata": {
  "kernelspec": {
   "display_name": "Python 3 (ipykernel)",
   "language": "python",
   "name": "python3"
  },
  "language_info": {
   "codemirror_mode": {
    "name": "ipython",
    "version": 3
   },
   "file_extension": ".py",
   "mimetype": "text/x-python",
   "name": "python",
   "nbconvert_exporter": "python",
   "pygments_lexer": "ipython3",
   "version": "3.12.4"
  }
 },
 "nbformat": 4,
 "nbformat_minor": 5
}
